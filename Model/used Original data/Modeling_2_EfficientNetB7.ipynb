{
  "cells": [
    {
      "cell_type": "markdown",
      "metadata": {
        "id": "RRtQPGBlcfh1"
      },
      "source": [
        "# 노말데이터로 학습 진행 \n",
        "# 모델 : EfficientNetB7"
      ]
    },
    {
      "cell_type": "code",
      "execution_count": null,
      "metadata": {
        "id": "DEMaiOuicfh-"
      },
      "outputs": [],
      "source": [
        "#pip install opencv-python"
      ]
    },
    {
      "cell_type": "code",
      "execution_count": null,
      "metadata": {
        "id": "O9uBkY97cfiB"
      },
      "outputs": [],
      "source": [
        "#pip install scikit-plot"
      ]
    },
    {
      "cell_type": "code",
      "execution_count": null,
      "metadata": {
        "id": "IEH9NUP7cfiC"
      },
      "outputs": [],
      "source": []
    },
    {
      "cell_type": "code",
      "execution_count": null,
      "metadata": {
        "id": "rKTz8JeWcfiC"
      },
      "outputs": [],
      "source": [
        "import tensorflow as tf\n",
        "import numpy as np\n",
        "\n",
        "import pandas as pd\n",
        "import cv2\n",
        "import os\n",
        "import math\n",
        "import scipy as sp\n",
        "import PIL\n",
        "\n",
        "# Tensorflow\n",
        "from tensorflow.keras import models, layers, Model\n",
        "from tensorflow.keras.models import Sequential, load_model\n",
        "from tensorflow.keras.layers import Conv2D, MaxPooling2D\n",
        "from tensorflow.keras.layers import Dense, Dropout, Flatten, GlobalAveragePooling2D\n",
        "from tensorflow.keras.layers import Flatten, Dense, Dropout, ZeroPadding2D\n",
        "\n",
        "from tensorflow.keras.preprocessing.image import ImageDataGenerator\n",
        "from tensorflow.keras.callbacks import ModelCheckpoint, TensorBoard, ReduceLROnPlateau\n",
        "from tensorflow.keras import optimizers\n",
        "from tensorflow.keras.optimizers import SGD\n",
        "from tensorflow.keras.models import Model\n",
        "from tensorflow.keras.preprocessing import image\n",
        "from tensorflow.keras.applications import EfficientNetB4, EfficientNetB6, ResNet50V2\n",
        "#from keras_tuner.tuners import RandomSearch\n",
        "\n",
        "import scikitplot as skplt\n",
        "from sklearn.metrics import roc_auc_score\n",
        "import matplotlib.pyplot as plt"
      ]
    },
    {
      "cell_type": "code",
      "execution_count": null,
      "metadata": {
        "id": "m6mSCv9kcfiD"
      },
      "outputs": [],
      "source": [
        "# batch_size: 한번에 forward & Backword 하는 샘플의 수\n",
        "batch_size = 10\n",
        "\n",
        "# Training 수\n",
        "epochs = 30\n",
        "\n",
        "# Weight 조절 parameter\n",
        "LearningRate = 1e-3 # 0.001\n",
        "Decay = 1e-6\n",
        "\n",
        "img_width = 224\n",
        "img_height = 224"
      ]
    },
    {
      "cell_type": "code",
      "execution_count": null,
      "metadata": {
        "id": "ihvYKPNjcfiE"
      },
      "outputs": [],
      "source": [
        "# 디렉토리 경로 설정 필요\n",
        "CurrentDirectory = \"/Users/krc/Documents/이어드림 수업/딥러닝_컴퓨터비전(CV)_Project/Project_cancer_file/ZCASD_Origin_file/\"\n",
        "\n",
        "train_directory = CurrentDirectory + 'Train/'\n",
        "test_directory  = CurrentDirectory + 'Test/'\n",
        "model_directory = CurrentDirectory + 'Model/'\n",
        "tensorboard_directory = CurrentDirectory + 'Tensorboard'"
      ]
    },
    {
      "cell_type": "code",
      "execution_count": null,
      "metadata": {
        "id": "asCWPZHfcfiG",
        "outputId": "35bc555b-d1fe-4a07-d8bf-fa85c853b1cb"
      },
      "outputs": [
        {
          "name": "stderr",
          "output_type": "stream",
          "text": [
            "/Users/krc/miniforge3/envs/tf_CPU/lib/python3.8/site-packages/keras/optimizers/optimizer_v2/adam.py:110: UserWarning: The `lr` argument is deprecated, use `learning_rate` instead.\n",
            "  super(Adam, self).__init__(name, **kwargs)\n"
          ]
        }
      ],
      "source": [
        "# 모델 Return\n",
        "EfficientNetB7_model = tf.keras.applications.EfficientNetB7(include_top=False,\n",
        "    weights='imagenet', input_tensor=None, input_shape=(img_width,img_height,3), pooling=None)\n",
        "# 마지막 prediction layer를 위한 작업\n",
        "\n",
        "x = GlobalAveragePooling2D()(EfficientNetB7_model.output)\n",
        "predictions = Dense(2, activation='softmax')(x)\n",
        "# predictions = Dense(2, activation='sigmoid')(x)\n",
        "\n",
        "# Input ~ Output 연결해주기\n",
        "DeepLearning = Model(inputs=EfficientNetB7_model.input, outputs=predictions)\n",
        "\n",
        "# learning parameter를 더하여 최종 model compile\n",
        "DeepLearning.compile(optimizer=\n",
        "         tf.keras.optimizers.Adam(lr=0.001, beta_1=0.9, beta_2=0.999, epsilon=None, decay=Decay, amsgrad=False), \n",
        "         loss='categorical_crossentropy',\n",
        "         metrics=['acc']\n",
        ")"
      ]
    },
    {
      "cell_type": "code",
      "execution_count": null,
      "metadata": {
        "id": "7k_0Y08_cfiI",
        "outputId": "62f3ec26-7a5b-41a7-da6c-549212a171a1"
      },
      "outputs": [
        {
          "name": "stdout",
          "output_type": "stream",
          "text": [
            "Found 7158 images belonging to 2 classes.\n",
            "Found 1788 images belonging to 2 classes.\n",
            "Found 2232 images belonging to 2 classes.\n"
          ]
        }
      ],
      "source": [
        "datagen_train = ImageDataGenerator(\n",
        "    rescale=1./255,\n",
        "    rotation_range=20,\n",
        "    width_shift_range=0.2,\n",
        "    height_shift_range=0.2,\n",
        "    shear_range=0.2,\n",
        "    zoom_range=0.2,\n",
        "    horizontal_flip=True,\n",
        "    vertical_flip=True,\n",
        "    featurewise_center=True,\n",
        "    featurewise_std_normalization=True,\n",
        "    data_format=\"channels_last\",\n",
        "    validation_split=0.20) # Train / Validation\n",
        "\n",
        "# Online-augmentation 비적용 Generator (Test용)\n",
        "datagen_test = ImageDataGenerator(\n",
        "    rescale=1./255,\n",
        "    featurewise_center=True,\n",
        "    featurewise_std_normalization=True,\n",
        "    data_format=\"channels_last\")\n",
        "\n",
        "\n",
        "\n",
        "\n",
        "# Generator의 instance 생성 (Train)\n",
        "train_generator = datagen_train.flow_from_directory(\n",
        "    train_directory,\n",
        "    target_size = (img_width, img_height),\n",
        "    batch_size = batch_size,\n",
        "    class_mode= \"categorical\",\n",
        "    subset = \"training\")\n",
        "\n",
        "valid_generator = datagen_train.flow_from_directory(\n",
        "    train_directory,\n",
        "    target_size = (img_width, img_height),\n",
        "    batch_size = batch_size,\n",
        "    class_mode= \"categorical\",\n",
        "    subset = \"validation\")\n",
        "\n",
        "# Generator의 instance 생성 (Test)\n",
        "test_generator = datagen_test.flow_from_directory(\n",
        "    test_directory,\n",
        "    target_size = (img_width, img_height),\n",
        "    batch_size = batch_size,\n",
        "    shuffle = False,\n",
        "    class_mode= \"categorical\")"
      ]
    },
    {
      "cell_type": "code",
      "execution_count": null,
      "metadata": {
        "id": "m2PK3IrZcfiK"
      },
      "outputs": [],
      "source": [
        "# Call-back 함수\n",
        "\n",
        "# CheckPoint: Epoch 마다 validation 성능을 검증하여, best performance 일 경우 저장\n",
        "CP = ModelCheckpoint(filepath='ZCASD_Model/Model0803_b7_1/{epoch:03d}-{loss:.4f}-{acc:.4f}-{val_loss:.4f}-{val_acc:.4f}.hdf5',\n",
        "            monitor='val_acc', verbose=1, save_best_only=False, mode='max')\n",
        "            \n",
        "\n",
        "# tensorboard\n",
        "TB = TensorBoard(log_dir='logs', write_graph=True, write_images=True)\n",
        "\n",
        "# Learning Rate 줄여나가기\n",
        "LR = ReduceLROnPlateau(monitor='val_loss',factor=0.8,patience=2, verbose=1, min_lr=1e-8)\n",
        "\n",
        "CALLBACK = [CP, TB, LR]"
      ]
    },
    {
      "cell_type": "code",
      "execution_count": null,
      "metadata": {
        "id": "D_2k15vYcfiK",
        "outputId": "31265769-c32a-4db9-eb8d-c57b1316a4dd"
      },
      "outputs": [
        {
          "name": "stdout",
          "output_type": "stream",
          "text": [
            "Epoch 1/12\n",
            "358/358 [==============================] - ETA: 0s - loss: 0.3745 - acc: 0.8466\n",
            "Epoch 1: saving model to ZCASD_data/Model0727b7_2/001-0.3745-0.8466-0.5366-0.8188.hdf5\n",
            "358/358 [==============================] - 3628s 10s/step - loss: 0.3745 - acc: 0.8466 - val_loss: 0.5366 - val_acc: 0.8188 - lr: 0.0010\n",
            "Epoch 2/12\n",
            "358/358 [==============================] - ETA: 0s - loss: 0.3288 - acc: 0.8662\n",
            "Epoch 2: saving model to ZCASD_data/Model0727b7_2/002-0.3288-0.8662-0.5542-0.8188.hdf5\n",
            "358/358 [==============================] - 3583s 10s/step - loss: 0.3288 - acc: 0.8662 - val_loss: 0.5542 - val_acc: 0.8188 - lr: 0.0010\n",
            "Epoch 3/12\n",
            "358/358 [==============================] - ETA: 0s - loss: 0.3115 - acc: 0.8680\n",
            "Epoch 3: saving model to ZCASD_data/Model0727b7_2/003-0.3115-0.8680-0.6336-0.7891.hdf5\n",
            "\n",
            "Epoch 3: ReduceLROnPlateau reducing learning rate to 0.000800000037997961.\n",
            "358/358 [==============================] - 3418s 10s/step - loss: 0.3115 - acc: 0.8680 - val_loss: 0.6336 - val_acc: 0.7891 - lr: 0.0010\n",
            "Epoch 4/12\n",
            "358/358 [==============================] - ETA: 0s - loss: 0.2887 - acc: 0.8811\n",
            "Epoch 4: saving model to ZCASD_data/Model0727b7_2/004-0.2887-0.8811-0.5373-0.8227.hdf5\n",
            "358/358 [==============================] - 3480s 10s/step - loss: 0.2887 - acc: 0.8811 - val_loss: 0.5373 - val_acc: 0.8227 - lr: 8.0000e-04\n",
            "Epoch 5/12\n",
            "358/358 [==============================] - ETA: 0s - loss: 0.2759 - acc: 0.8848\n",
            "Epoch 5: saving model to ZCASD_data/Model0727b7_2/005-0.2759-0.8848-0.6663-0.7371.hdf5\n",
            "\n",
            "Epoch 5: ReduceLROnPlateau reducing learning rate to 0.0006400000303983689.\n",
            "358/358 [==============================] - 3622s 10s/step - loss: 0.2759 - acc: 0.8848 - val_loss: 0.6663 - val_acc: 0.7371 - lr: 8.0000e-04\n",
            "Epoch 6/12\n",
            "358/358 [==============================] - ETA: 0s - loss: 0.2554 - acc: 0.8964\n",
            "Epoch 6: saving model to ZCASD_data/Model0727b7_2/006-0.2554-0.8964-0.6387-0.5173.hdf5\n",
            "358/358 [==============================] - 3707s 10s/step - loss: 0.2554 - acc: 0.8964 - val_loss: 0.6387 - val_acc: 0.5173 - lr: 6.4000e-04\n",
            "Epoch 7/12\n",
            "358/358 [==============================] - ETA: 0s - loss: 0.2486 - acc: 0.9035\n",
            "Epoch 7: saving model to ZCASD_data/Model0727b7_2/007-0.2486-0.9035-0.7617-0.2226.hdf5\n",
            "\n",
            "Epoch 7: ReduceLROnPlateau reducing learning rate to 0.0005120000336319208.\n",
            "358/358 [==============================] - 3665s 10s/step - loss: 0.2486 - acc: 0.9035 - val_loss: 0.7617 - val_acc: 0.2226 - lr: 6.4000e-04\n",
            "Epoch 8/12\n",
            "358/358 [==============================] - ETA: 0s - loss: 0.2309 - acc: 0.9084\n",
            "Epoch 8: saving model to ZCASD_data/Model0727b7_2/008-0.2309-0.9084-0.8619-0.1997.hdf5\n",
            "358/358 [==============================] - 3601s 10s/step - loss: 0.2309 - acc: 0.9084 - val_loss: 0.8619 - val_acc: 0.1997 - lr: 5.1200e-04\n",
            "Epoch 9/12\n",
            "358/358 [==============================] - ETA: 0s - loss: 0.2320 - acc: 0.9057\n",
            "Epoch 9: saving model to ZCASD_data/Model0727b7_2/009-0.2320-0.9057-0.6458-0.6326.hdf5\n",
            "\n",
            "Epoch 9: ReduceLROnPlateau reducing learning rate to 0.00040960004553198815.\n",
            "358/358 [==============================] - 3563s 10s/step - loss: 0.2320 - acc: 0.9057 - val_loss: 0.6458 - val_acc: 0.6326 - lr: 5.1200e-04\n",
            "Epoch 10/12\n",
            "358/358 [==============================] - ETA: 0s - loss: 0.2215 - acc: 0.9128 \n",
            "Epoch 10: saving model to ZCASD_data/Model0727b7_2/010-0.2215-0.9128-0.4750-0.8188.hdf5\n",
            "358/358 [==============================] - 3778s 11s/step - loss: 0.2215 - acc: 0.9128 - val_loss: 0.4750 - val_acc: 0.8188 - lr: 4.0960e-04\n",
            "Epoch 11/12\n",
            "358/358 [==============================] - ETA: 0s - loss: 0.2060 - acc: 0.9154\n",
            "Epoch 11: saving model to ZCASD_data/Model0727b7_2/011-0.2060-0.9154-0.7226-0.4827.hdf5\n",
            "358/358 [==============================] - 3542s 10s/step - loss: 0.2060 - acc: 0.9154 - val_loss: 0.7226 - val_acc: 0.4827 - lr: 4.0960e-04\n",
            "Epoch 12/12\n",
            "358/358 [==============================] - ETA: 0s - loss: 0.2028 - acc: 0.9209\n",
            "Epoch 12: saving model to ZCASD_data/Model0727b7_2/012-0.2028-0.9209-1.7182-0.1812.hdf5\n",
            "\n",
            "Epoch 12: ReduceLROnPlateau reducing learning rate to 0.00032768002711236477.\n",
            "358/358 [==============================] - 3491s 10s/step - loss: 0.2028 - acc: 0.9209 - val_loss: 1.7182 - val_acc: 0.1812 - lr: 4.0960e-04\n"
          ]
        },
        {
          "data": {
            "text/plain": [
              "<keras.callbacks.History at 0x2d61d25e0>"
            ]
          },
          "execution_count": 10,
          "metadata": {},
          "output_type": "execute_result"
        }
      ],
      "source": [
        "# ######### Training Start\n",
        "# DeepLearning.fit(train_generator, \n",
        "#                  epochs = epochs, \n",
        "#                  callbacks = CALLBACK,\n",
        "#                  shuffle = True, \n",
        "#                  validation_data = valid_generator)"
      ]
    },
    {
      "cell_type": "code",
      "execution_count": null,
      "metadata": {
        "id": "dqur9y0EcfiL"
      },
      "outputs": [],
      "source": [
        "# EfficientNetB7\n",
        "deep_path = '/Users/krc/Documents/이어드림 수업/딥러닝_컴퓨터비전(CV)_Project/ZCASD_Model/0803_0804/'\n",
        "\n",
        "DeepLearning.load_weights('/Users/krc/Documents/이어드림 수업/딥러닝_컴퓨터비전(CV)_Project/ZCASD_Model/0803_0804/b7032-0.1922-0.9250-0.2855-0.8926.hdf5')"
      ]
    },
    {
      "cell_type": "code",
      "execution_count": null,
      "metadata": {
        "id": "HA7Hbg_JcfiN",
        "outputId": "3a4f4bc0-e101-45d4-9541-97cb0c67bad0"
      },
      "outputs": [
        {
          "name": "stderr",
          "output_type": "stream",
          "text": [
            "/Users/krc/miniforge3/envs/tf_CPU/lib/python3.8/site-packages/keras/preprocessing/image.py:1663: UserWarning: This ImageDataGenerator specifies `featurewise_center`, but it hasn't been fit on any training data. Fit it first by calling `.fit(numpy_data)`.\n",
            "  warnings.warn('This ImageDataGenerator specifies '\n",
            "/Users/krc/miniforge3/envs/tf_CPU/lib/python3.8/site-packages/keras/preprocessing/image.py:1671: UserWarning: This ImageDataGenerator specifies `featurewise_std_normalization`, but it hasn't been fit on any training data. Fit it first by calling `.fit(numpy_data)`.\n",
            "  warnings.warn('This ImageDataGenerator specifies '\n",
            "2022-08-04 21:13:45.294113: W tensorflow/core/platform/profile_utils/cpu_utils.cc:128] Failed to get CPU frequency: 0 Hz\n"
          ]
        },
        {
          "name": "stdout",
          "output_type": "stream",
          "text": [
            "224/224 - 204s - loss: 16241.0068 - acc: 0.1806 - 204s/epoch - 911ms/step\n",
            "훈련되지 않은 모델의 정확도: 18.06%\n"
          ]
        }
      ],
      "source": [
        "\n",
        "# 모델을 평가합니다\n",
        "loss, acc = DeepLearning.evaluate(test_generator, verbose=2)\n",
        "print(\"훈련되지 않은 모델의 정확도: {:5.2f}%\".format(100*acc))"
      ]
    },
    {
      "cell_type": "code",
      "execution_count": null,
      "metadata": {
        "id": "yrjkfc-VcfiN",
        "outputId": "efd2f52a-94d4-43fc-d2c6-25ce4bff0c9e"
      },
      "outputs": [
        {
          "name": "stderr",
          "output_type": "stream",
          "text": [
            "/var/folders/vl/3_6ksrvn7g56c54ypcf170ch0000gn/T/ipykernel_6819/2078965783.py:1: UserWarning: `Model.predict_generator` is deprecated and will be removed in a future version. Please use `Model.predict`, which supports generators.\n",
            "  Test_prediction = DeepLearning.predict_generator(test_generator, verbose=1)\n"
          ]
        },
        {
          "name": "stdout",
          "output_type": "stream",
          "text": [
            "224/224 [==============================] - 207s 917ms/step\n"
          ]
        }
      ],
      "source": [
        "Test_prediction = DeepLearning.predict_generator(test_generator, verbose=1)\n",
        "result = pd.DataFrame(Test_prediction)"
      ]
    },
    {
      "cell_type": "code",
      "execution_count": null,
      "metadata": {
        "id": "6d-j-E_BcfiO",
        "outputId": "75c67135-54b1-4bdc-c04e-f2ae39b6a1fc"
      },
      "outputs": [
        {
          "data": {
            "text/plain": [
              "<AxesSubplot:title={'center':'ROC Curves'}, xlabel='False Positive Rate', ylabel='True Positive Rate'>"
            ]
          },
          "execution_count": 10,
          "metadata": {},
          "output_type": "execute_result"
        },
        {
          "data": {
            "image/png": "[encoded data removed]",
            "text/plain": [
              "<Figure size 432x288 with 1 Axes>"
            ]
          },
          "metadata": {
            "needs_background": "light"
          },
          "output_type": "display_data"
        }
      ],
      "source": [
        "skplt.metrics.plot_roc(test_generator.classes.tolist(), result)"
      ]
    },
    {
      "cell_type": "code",
      "execution_count": null,
      "metadata": {
        "id": "rDISiB6dcfiO"
      },
      "outputs": [],
      "source": [
        "def grad_cam(model, img, layer_name=\"top_conv\", label_name=None, category_id=None):\n",
        "    img_tensor = np.expand_dims(img, axis=0)\n",
        "    conv_layer = model.get_layer(layer_name)\n",
        "    heatmap_model = tf.keras.Model(inputs=[model.inputs], outputs=[conv_layer.output, model.output])\n",
        "\n",
        "    with tf.GradientTape() as gtape:\n",
        "        conv_output, predictions = heatmap_model(img_tensor)\n",
        "        if category_id == None:\n",
        "            category_id = np.argmax(predictions[0])\n",
        "        if label_name:\n",
        "            print(label_name[category_id])\n",
        "        output = predictions[:, category_id]\n",
        "        grads = gtape.gradient(output, conv_output)\n",
        "        pooled_grads = tf.reduce_mean(grads, axis=(0, 1, 2))\n",
        "\n",
        "    heatmap = tf.reduce_mean(tf.multiply(pooled_grads, conv_output), axis=-1)\n",
        "    heatmap = np.maximum(heatmap, 0)\n",
        "    max_heat = np.max(heatmap)\n",
        "    if max_heat == 0:\n",
        "        max_heat = 1e-10\n",
        "    heatmap /= max_heat\n",
        "    return np.squeeze(heatmap), predictions\n",
        "\n",
        "def grad_camAll(model, img, layer_name=\"top_conv\", blockSize=7, label_name=None, category_id=None):\n",
        "    img_tensor = np.expand_dims(img, axis=0)\n",
        "    conv_layer = model.get_layer(layer_name)\n",
        "    heatmap_model = Model([model.inputs], [conv_layer.output, model.output])\n",
        "\n",
        "    with tf.GradientTape() as gtape:\n",
        "        conv_output, predictions = heatmap_model(img_tensor)\n",
        "        if category_id == None:\n",
        "            category_id = np.argmax(predictions[0])\n",
        "        if label_name:\n",
        "            print(label_name[category_id])\n",
        "        output = predictions[:, category_id]\n",
        "        grads = gtape.gradient(output, conv_output)\n",
        "        pooled_grads = tf.reduce_mean(grads, axis=(0, 1, 2))\n",
        "    \n",
        "    res = sp.ndimage.zoom(conv_output[0], (224/blockSize, 224/blockSize, 1), order=2)   \n",
        "    heatmap = tf.reduce_mean(tf.multiply(pooled_grads, res), axis=-1)\n",
        "    heatmap = np.maximum(heatmap, 0)\n",
        "    max_heat = np.max(heatmap)\n",
        "    if max_heat == 0:\n",
        "        max_heat = 1e-10\n",
        "    heatmap /= max_heat\n",
        "    return np.squeeze(heatmap)\n",
        "\n",
        "def show_imgwithheat(img_path, heatmap, alpha=0.4, return_array=False):\n",
        "    img = cv2.imread(img_path)\n",
        "    heatmap = cv2.resize(heatmap, (img.shape[1], img.shape[0]))\n",
        "    heatmap = (heatmap*255).astype(\"uint8\")\n",
        "    heatmap = cv2.applyColorMap(heatmap, cv2.COLORMAP_JET)\n",
        "    superimposed_img = heatmap * alpha + img\n",
        "    superimposed_img = np.clip(superimposed_img, 0, 255).astype(\"uint8\")\n",
        "    superimposed_img = cv2.cvtColor(superimposed_img, cv2.COLOR_BGR2RGB)\n",
        "\n",
        "    imgwithheat = PIL.Image.fromarray(superimposed_img)  \n",
        "    display(imgwithheat)\n",
        "\n",
        "    if return_array:\n",
        "        return superimposed_img"
      ]
    },
    {
      "cell_type": "code",
      "execution_count": null,
      "metadata": {
        "id": "KzwYd38dcfiP",
        "outputId": "9e513358-77e1-4a15-fc68-bff4db24a2c4"
      },
      "outputs": [
        {
          "name": "stdout",
          "output_type": "stream",
          "text": [
            "Found 2232 images belonging to 2 classes.\n"
          ]
        }
      ],
      "source": [
        "GENERATOR = ImageDataGenerator(\n",
        "    rescale=1./255,\n",
        "    featurewise_center=True,\n",
        "    featurewise_std_normalization=True,\n",
        "    data_format=\"channels_last\")\n",
        "\n",
        "DATA_GENERATOR = GENERATOR.flow_from_directory(\n",
        "    test_directory,\n",
        "    target_size = (img_width, img_height),\n",
        "    batch_size = batch_size,\n",
        "    shuffle = False,\n",
        "    classes=[\"Benign\", \"Cancer\"],\n",
        "    class_mode= \"categorical\")"
      ]
    },
    {
      "cell_type": "code",
      "execution_count": null,
      "metadata": {
        "id": "LWDnWewzcfiP",
        "outputId": "8bfef1e6-ac29-4a67-8cda-15388936a7ce"
      },
      "outputs": [
        {
          "name": "stderr",
          "output_type": "stream",
          "text": [
            "/Users/krc/miniforge3/envs/tf_CPU/lib/python3.8/site-packages/keras/preprocessing/image.py:1663: UserWarning: This ImageDataGenerator specifies `featurewise_center`, but it hasn't been fit on any training data. Fit it first by calling `.fit(numpy_data)`.\n",
            "  warnings.warn('This ImageDataGenerator specifies '\n",
            "/Users/krc/miniforge3/envs/tf_CPU/lib/python3.8/site-packages/keras/preprocessing/image.py:1671: UserWarning: This ImageDataGenerator specifies `featurewise_std_normalization`, but it hasn't been fit on any training data. Fit it first by calling `.fit(numpy_data)`.\n",
            "  warnings.warn('This ImageDataGenerator specifies '\n"
          ]
        },
        {
          "data": {
            "image/png": "[encoded data removed]",
            "text/plain": [
              "<Figure size 648x216 with 3 Axes>"
            ]
          },
          "metadata": {
            "needs_background": "light"
          },
          "output_type": "display_data"
        }
      ],
      "source": [
        "Iterator = 10\n",
        "\n",
        "# item 받아오기\n",
        "Image, Label = test_generator.__getitem__(Iterator)\n",
        "Image = Image[0]\n",
        "# print(Label)\n",
        "\n",
        "\n",
        "# grad_cam을 활용하여 heatmap 가져오기\n",
        "HEATMAP1, pred1 = grad_cam(model = DeepLearning, img = Image, layer_name = 'top_conv', category_id=0)\n",
        "heatmap_resize = cv2.resize(HEATMAP1, (224, 224))\n",
        "heatmap_resize_255 = (heatmap_resize*255).astype(\"uint8\")\n",
        "heatmap1 = cv2.applyColorMap(255-heatmap_resize_255, cv2.COLORMAP_JET ) / 255\n",
        "heatmap1[:, :, 2] -= .5\n",
        "heatmap1[(heatmap1[:, :, 2] < 0), 2] = 0\n",
        "\n",
        "fig, ax = plt.subplots( nrows=3, ncols=1 )  # create figure & 1 axis\n",
        "fig.set_size_inches(9.0, 3.0)\n",
        "ax = plt.subplot(1,3,1)\n",
        "ax.imshow(Image)\n",
        "ax = plt.subplot(1,3,2)\n",
        "ax.imshow(Image)\n",
        "ax.imshow(heatmap1, cmap=plt.cm.jet, alpha=0.3, interpolation='nearest' )\n",
        "ax = plt.subplot(1,3,3)\n",
        "ax.imshow(Image)\n",
        "ax.imshow(heatmap1, cmap=plt.cm.jet, alpha=0.3, interpolation='nearest' )\n",
        "\n",
        "plt.subplots_adjust(left = 0.06, wspace = 0.25, hspace = 0.1, bottom = 0.025, top = 0.975)\n",
        "pred=round(pred1.numpy()[0][0],3)\n",
        "plt.show()"
      ]
    }
  ],
  "metadata": {
    "kernelspec": {
      "display_name": "Python 3.8.13 ('tf_CPU')",
      "language": "python",
      "name": "python3"
    },
    "language_info": {
      "codemirror_mode": {
        "name": "ipython",
        "version": 3
      },
      "file_extension": ".py",
      "mimetype": "text/x-python",
      "name": "python",
      "nbconvert_exporter": "python",
      "pygments_lexer": "ipython3",
      "version": "3.8.13"
    },
    "orig_nbformat": 4,
    "vscode": {
      "interpreter": {
        "hash": "77969b80d7e0a5cb7e8f7ac06c6a462a342e6c32ffdaba6c0d4da8bd2d118c79"
      }
    },
    "colab": {
      "provenance": []
    }
  },
  "nbformat": 4,
  "nbformat_minor": 0
}