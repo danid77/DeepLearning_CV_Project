{
  "cells": [
    {
      "cell_type": "markdown",
      "metadata": {
        "id": "8OGfyDWDBcIj"
      },
      "source": [
        "# 노말데이터로 학습 진행 \n",
        "# 모델 : EfficientNetB7"
      ]
    },
    {
      "cell_type": "code",
      "source": [
        "from google.colab import drive\n",
        "drive.mount('/content/drive')"
      ],
      "metadata": {
        "colab": {
          "base_uri": "https://localhost:8080/"
        },
        "id": "peLuuv26B6d8",
        "outputId": "3daef075-945c-4878-8633-758018128a2c"
      },
      "execution_count": null,
      "outputs": [
        {
          "output_type": "stream",
          "name": "stdout",
          "text": [
            "Mounted at /content/drive\n"
          ]
        }
      ]
    },
    {
      "cell_type": "code",
      "source": [
        "pip install scikit-plot"
      ],
      "metadata": {
        "colab": {
          "base_uri": "https://localhost:8080/"
        },
        "id": "emt8GysBCJ1H",
        "outputId": "4289d400-3e45-4657-d419-87fdeb3226c2"
      },
      "execution_count": null,
      "outputs": [
        {
          "output_type": "stream",
          "name": "stdout",
          "text": [
            "Looking in indexes: https://pypi.org/simple, https://us-python.pkg.dev/colab-wheels/public/simple/\n",
            "Collecting scikit-plot\n",
            "  Downloading scikit_plot-0.3.7-py3-none-any.whl (33 kB)\n",
            "Requirement already satisfied: joblib>=0.10 in /usr/local/lib/python3.7/dist-packages (from scikit-plot) (1.1.0)\n",
            "Requirement already satisfied: scikit-learn>=0.18 in /usr/local/lib/python3.7/dist-packages (from scikit-plot) (1.0.2)\n",
            "Requirement already satisfied: scipy>=0.9 in /usr/local/lib/python3.7/dist-packages (from scikit-plot) (1.7.3)\n",
            "Requirement already satisfied: matplotlib>=1.4.0 in /usr/local/lib/python3.7/dist-packages (from scikit-plot) (3.2.2)\n",
            "Requirement already satisfied: numpy>=1.11 in /usr/local/lib/python3.7/dist-packages (from matplotlib>=1.4.0->scikit-plot) (1.21.6)\n",
            "Requirement already satisfied: kiwisolver>=1.0.1 in /usr/local/lib/python3.7/dist-packages (from matplotlib>=1.4.0->scikit-plot) (1.4.4)\n",
            "Requirement already satisfied: python-dateutil>=2.1 in /usr/local/lib/python3.7/dist-packages (from matplotlib>=1.4.0->scikit-plot) (2.8.2)\n",
            "Requirement already satisfied: pyparsing!=2.0.4,!=2.1.2,!=2.1.6,>=2.0.1 in /usr/local/lib/python3.7/dist-packages (from matplotlib>=1.4.0->scikit-plot) (3.0.9)\n",
            "Requirement already satisfied: cycler>=0.10 in /usr/local/lib/python3.7/dist-packages (from matplotlib>=1.4.0->scikit-plot) (0.11.0)\n",
            "Requirement already satisfied: typing-extensions in /usr/local/lib/python3.7/dist-packages (from kiwisolver>=1.0.1->matplotlib>=1.4.0->scikit-plot) (4.1.1)\n",
            "Requirement already satisfied: six>=1.5 in /usr/local/lib/python3.7/dist-packages (from python-dateutil>=2.1->matplotlib>=1.4.0->scikit-plot) (1.15.0)\n",
            "Requirement already satisfied: threadpoolctl>=2.0.0 in /usr/local/lib/python3.7/dist-packages (from scikit-learn>=0.18->scikit-plot) (3.1.0)\n",
            "Installing collected packages: scikit-plot\n",
            "Successfully installed scikit-plot-0.3.7\n"
          ]
        }
      ]
    },
    {
      "cell_type": "code",
      "execution_count": null,
      "metadata": {
        "id": "E4cIcbUUBcIn"
      },
      "outputs": [],
      "source": [
        "import tensorflow as tf\n",
        "import numpy as np\n",
        "\n",
        "import pandas as pd\n",
        "import cv2\n",
        "import os\n",
        "import math\n",
        "import scipy as sp\n",
        "import PIL\n",
        "\n",
        "# Tensorflow\n",
        "from tensorflow.keras import models, layers, Model\n",
        "from tensorflow.keras.models import Sequential, load_model\n",
        "from tensorflow.keras.layers import Conv2D, MaxPooling2D\n",
        "from tensorflow.keras.layers import Dense, Dropout, Flatten, GlobalAveragePooling2D\n",
        "from tensorflow.keras.layers import Flatten, Dense, Dropout, ZeroPadding2D\n",
        "\n",
        "from tensorflow.keras.preprocessing.image import ImageDataGenerator\n",
        "from tensorflow.keras.callbacks import ModelCheckpoint, TensorBoard, ReduceLROnPlateau\n",
        "from tensorflow.keras import optimizers\n",
        "from tensorflow.keras.optimizers import SGD\n",
        "from tensorflow.keras.models import Model\n",
        "from tensorflow.keras.preprocessing import image\n",
        "from tensorflow.keras.applications import EfficientNetB4, EfficientNetB6, ResNet50V2\n",
        "#from keras_tuner.tuners import RandomSearch\n",
        "\n",
        "import scikitplot as skplt\n",
        "from sklearn.metrics import roc_auc_score\n",
        "import matplotlib.pyplot as plt"
      ]
    },
    {
      "cell_type": "code",
      "source": [
        "cd '/content/drive/MyDrive/Colab Notebooks/CV_Project'"
      ],
      "metadata": {
        "colab": {
          "base_uri": "https://localhost:8080/"
        },
        "id": "uctTGFyrCjVp",
        "outputId": "8c572393-b162-4bbb-985b-bfd44cf22f6b"
      },
      "execution_count": null,
      "outputs": [
        {
          "output_type": "stream",
          "name": "stdout",
          "text": [
            "/content/drive/MyDrive/Colab Notebooks/CV_Project\n"
          ]
        }
      ]
    },
    {
      "cell_type": "code",
      "source": [
        "!unzip -qq \"/content/drive/MyDrive/Colab Notebooks/CV_Project/ZCASD.zip\""
      ],
      "metadata": {
        "id": "rkOPxgIKClRB"
      },
      "execution_count": null,
      "outputs": []
    },
    {
      "cell_type": "code",
      "execution_count": null,
      "metadata": {
        "id": "BKPxE3LgBcIo"
      },
      "outputs": [],
      "source": [
        "# batch_size: 한번에 forward & Backword 하는 샘플의 수\n",
        "batch_size = 5\n",
        "\n",
        "# Training 수\n",
        "epochs = 40\n",
        "\n",
        "# Weight 조절 parameter\n",
        "LearningRate = 1e-3 # 0.001\n",
        "Decay = 1e-6\n",
        "\n",
        "img_width = 224\n",
        "img_height = 224"
      ]
    },
    {
      "cell_type": "code",
      "execution_count": null,
      "metadata": {
        "id": "qJeCf6_FBcIp"
      },
      "outputs": [],
      "source": [
        "# 디렉토리 경로 설정 필요\n",
        "CurrentDirectory = \"/content/drive/MyDrive/Colab Notebooks/CV_Project/ZCASD/\"\n",
        "\n",
        "train_directory = CurrentDirectory + 'Train/'\n",
        "test_directory  = CurrentDirectory + 'Test/'\n",
        "# model_directory = CurrentDirectory + 'Model/'\n",
        "# tensorboard_directory = CurrentDirectory + 'Tensorboard'"
      ]
    },
    {
      "cell_type": "code",
      "execution_count": null,
      "metadata": {
        "colab": {
          "base_uri": "https://localhost:8080/"
        },
        "id": "-W51hxYvBcIp",
        "outputId": "68264bf9-d253-4da4-fc0a-c197470c9b83"
      },
      "outputs": [
        {
          "output_type": "stream",
          "name": "stdout",
          "text": [
            "Downloading data from https://storage.googleapis.com/keras-applications/efficientnetb7_notop.h5\n",
            "258080768/258076736 [==============================] - 1s 0us/step\n",
            "258088960/258076736 [==============================] - 1s 0us/step\n"
          ]
        },
        {
          "output_type": "stream",
          "name": "stderr",
          "text": [
            "/usr/local/lib/python3.7/dist-packages/keras/optimizer_v2/adam.py:105: UserWarning: The `lr` argument is deprecated, use `learning_rate` instead.\n",
            "  super(Adam, self).__init__(name, **kwargs)\n"
          ]
        }
      ],
      "source": [
        "# 모델 Return\n",
        "model = tf.keras.applications.EfficientNetB7(include_top=False,\n",
        "    weights='imagenet', input_tensor=None, input_shape=(img_width,img_height,3), pooling=None)\n",
        "# 마지막 prediction layer를 위한 작업\n",
        "\n",
        "x = GlobalAveragePooling2D()(model.output)\n",
        "predictions = Dense(2, activation='softmax')(x)\n",
        "# predictions = Dense(2, activation='sigmoid')(x)\n",
        "\n",
        "# Input ~ Output 연결해주기\n",
        "DeepLearning = Model(inputs=model.input, outputs=predictions)\n",
        "\n",
        "# learning parameter를 더하여 최종 model compile\n",
        "DeepLearning.compile(optimizer=\n",
        "        tf.keras.optimizers.Adam(lr=0.001, beta_1=0.9, beta_2=0.999, epsilon=None, decay=Decay, amsgrad=False), \n",
        "        loss='categorical_crossentropy',\n",
        "        metrics=['acc'])\n",
        "    "
      ]
    },
    {
      "cell_type": "code",
      "execution_count": null,
      "metadata": {
        "colab": {
          "base_uri": "https://localhost:8080/"
        },
        "id": "dzfdYfAyBcIq",
        "outputId": "91dc9c83-c741-4b8d-fa3a-ddecd7dccc9c"
      },
      "outputs": [
        {
          "output_type": "stream",
          "name": "stdout",
          "text": [
            "Found 7160 images belonging to 2 classes.\n",
            "Found 1788 images belonging to 2 classes.\n",
            "Found 2237 images belonging to 2 classes.\n"
          ]
        }
      ],
      "source": [
        "datagen_train = ImageDataGenerator(\n",
        "    rescale=1./255,\n",
        "    rotation_range=20,\n",
        "    width_shift_range=0.2,\n",
        "    height_shift_range=0.2,\n",
        "    shear_range=0.2,\n",
        "    zoom_range=0.2,\n",
        "    horizontal_flip=True,\n",
        "    vertical_flip=True,\n",
        "    featurewise_center=True,\n",
        "    featurewise_std_normalization=True,\n",
        "    data_format=\"channels_last\",\n",
        "    validation_split=0.20) # Train / Validation\n",
        "\n",
        "# Online-augmentation 비적용 Generator (Test용)\n",
        "datagen_test = ImageDataGenerator(\n",
        "    rescale=1./255,\n",
        "    featurewise_center=True,\n",
        "    featurewise_std_normalization=True,\n",
        "    data_format=\"channels_last\")\n",
        "\n",
        "\n",
        "\n",
        "\n",
        "# Generator의 instance 생성 (Train)\n",
        "train_generator = datagen_train.flow_from_directory(\n",
        "    train_directory,\n",
        "    target_size = (img_width, img_height),\n",
        "    batch_size = batch_size,\n",
        "    class_mode= \"categorical\",\n",
        "    subset = \"training\")\n",
        "\n",
        "valid_generator = datagen_train.flow_from_directory(\n",
        "    train_directory,\n",
        "    target_size = (img_width, img_height),\n",
        "    batch_size = batch_size,\n",
        "    class_mode= \"categorical\",\n",
        "    subset = \"validation\")\n",
        "\n",
        "# Generator의 instance 생성 (Test)\n",
        "test_generator = datagen_test.flow_from_directory(\n",
        "    test_directory,\n",
        "    target_size = (img_width, img_height),\n",
        "    batch_size = batch_size,\n",
        "    shuffle = False,\n",
        "    class_mode= \"categorical\")"
      ]
    },
    {
      "cell_type": "code",
      "source": [
        "# Call-back 함수\n",
        "\n",
        "# CheckPoint: Epoch 마다 validation 성능을 검증하여, best performance 일 경우 저장\n",
        "CP = ModelCheckpoint(filepath='/content/drive/MyDrive/Colab Notebooks/CV_project/Model/0803_B7_4/{epoch:03d}-{loss:.4f}-{acc:.4f}-{val_loss:.4f}-{val_acc:.4f}.hdf5',\n",
        "            monitor='val_acc', verbose=1, save_best_only=True, mode='max')\n",
        "\n",
        "# tensorboard\n",
        "TB = TensorBoard(log_dir='logs', write_graph=True, write_images=True)\n",
        "\n",
        "# Learning Rate 줄여나가기\n",
        "LR = ReduceLROnPlateau(monitor='val_loss',factor=0.8,patience=3, verbose=1, min_lr=1e-8)\n",
        "\n",
        "CALLBACK = [CP, TB, LR]"
      ],
      "metadata": {
        "id": "z4MqBJYvBs4G"
      },
      "execution_count": null,
      "outputs": []
    },
    {
      "cell_type": "code",
      "source": [
        "######### Training Start\n",
        "with tf.device(\"/gpu:0\"):\n",
        "    DeepLearning.fit(train_generator, \n",
        "                    epochs=epochs, \n",
        "                    callbacks=CALLBACK,\n",
        "                    shuffle=True, \n",
        "                    validation_data=valid_generator)"
      ],
      "metadata": {
        "colab": {
          "base_uri": "https://localhost:8080/"
        },
        "id": "w-ee2cGzBtsC",
        "outputId": "4a4e291a-96f1-4fc2-a1e2-2b42449d1a4c"
      },
      "execution_count": null,
      "outputs": [
        {
          "output_type": "stream",
          "name": "stderr",
          "text": [
            "/usr/local/lib/python3.7/dist-packages/keras_preprocessing/image/image_data_generator.py:720: UserWarning: This ImageDataGenerator specifies `featurewise_center`, but it hasn't been fit on any training data. Fit it first by calling `.fit(numpy_data)`.\n",
            "  warnings.warn('This ImageDataGenerator specifies '\n",
            "/usr/local/lib/python3.7/dist-packages/keras_preprocessing/image/image_data_generator.py:728: UserWarning: This ImageDataGenerator specifies `featurewise_std_normalization`, but it hasn't been fit on any training data. Fit it first by calling `.fit(numpy_data)`.\n",
            "  warnings.warn('This ImageDataGenerator specifies '\n"
          ]
        },
        {
          "output_type": "stream",
          "name": "stdout",
          "text": [
            "Epoch 1/40\n",
            "1432/1432 [==============================] - ETA: 0s - loss: 0.4433 - acc: 0.8077\n",
            "Epoch 1: val_acc improved from -inf to 0.81879, saving model to /content/drive/MyDrive/Colab Notebooks/CV_project/Model/0803_B7_4/001-0.4433-0.8077-0.4357-0.8188.hdf5\n",
            "1432/1432 [==============================] - 623s 404ms/step - loss: 0.4433 - acc: 0.8077 - val_loss: 0.4357 - val_acc: 0.8188 - lr: 0.0010\n",
            "Epoch 2/40\n",
            "1432/1432 [==============================] - ETA: 0s - loss: 0.3879 - acc: 0.8363\n",
            "Epoch 2: val_acc did not improve from 0.81879\n",
            "1432/1432 [==============================] - 563s 393ms/step - loss: 0.3879 - acc: 0.8363 - val_loss: 0.5287 - val_acc: 0.8188 - lr: 0.0010\n",
            "Epoch 3/40\n",
            "1432/1432 [==============================] - ETA: 0s - loss: 0.3708 - acc: 0.8415\n",
            "Epoch 3: val_acc did not improve from 0.81879\n",
            "1432/1432 [==============================] - 562s 393ms/step - loss: 0.3708 - acc: 0.8415 - val_loss: 0.5223 - val_acc: 0.8132 - lr: 0.0010\n",
            "Epoch 4/40\n",
            "1432/1432 [==============================] - ETA: 0s - loss: 0.3566 - acc: 0.8531\n",
            "Epoch 4: val_acc did not improve from 0.81879\n",
            "\n",
            "Epoch 4: ReduceLROnPlateau reducing learning rate to 0.000800000037997961.\n",
            "1432/1432 [==============================] - 566s 395ms/step - loss: 0.3566 - acc: 0.8531 - val_loss: 0.5367 - val_acc: 0.8188 - lr: 0.0010\n",
            "Epoch 5/40\n",
            "1432/1432 [==============================] - ETA: 0s - loss: 0.3372 - acc: 0.8677\n",
            "Epoch 5: val_acc did not improve from 0.81879\n",
            "1432/1432 [==============================] - 561s 391ms/step - loss: 0.3372 - acc: 0.8677 - val_loss: 0.6562 - val_acc: 0.7500 - lr: 8.0000e-04\n",
            "Epoch 6/40\n",
            "1432/1432 [==============================] - ETA: 0s - loss: 0.3263 - acc: 0.8628\n",
            "Epoch 6: val_acc did not improve from 0.81879\n",
            "1432/1432 [==============================] - 569s 397ms/step - loss: 0.3263 - acc: 0.8628 - val_loss: 0.6847 - val_acc: 0.6655 - lr: 8.0000e-04\n",
            "Epoch 7/40\n",
            "1432/1432 [==============================] - ETA: 0s - loss: 0.3238 - acc: 0.8680\n",
            "Epoch 7: val_acc did not improve from 0.81879\n",
            "\n",
            "Epoch 7: ReduceLROnPlateau reducing learning rate to 0.0006400000303983689.\n",
            "1432/1432 [==============================] - 557s 389ms/step - loss: 0.3238 - acc: 0.8680 - val_loss: 0.5751 - val_acc: 0.7651 - lr: 8.0000e-04\n",
            "Epoch 8/40\n",
            "1432/1432 [==============================] - ETA: 0s - loss: 0.3086 - acc: 0.8728\n",
            "Epoch 8: val_acc improved from 0.81879 to 0.84172, saving model to /content/drive/MyDrive/Colab Notebooks/CV_project/Model/0803_B7_4/008-0.3086-0.8728-0.3737-0.8417.hdf5\n",
            "1432/1432 [==============================] - 564s 394ms/step - loss: 0.3086 - acc: 0.8728 - val_loss: 0.3737 - val_acc: 0.8417 - lr: 6.4000e-04\n",
            "Epoch 9/40\n",
            "1432/1432 [==============================] - ETA: 0s - loss: 0.3038 - acc: 0.8746\n",
            "Epoch 9: val_acc did not improve from 0.84172\n",
            "1432/1432 [==============================] - 555s 388ms/step - loss: 0.3038 - acc: 0.8746 - val_loss: 1.0681 - val_acc: 0.1874 - lr: 6.4000e-04\n",
            "Epoch 10/40\n",
            "1432/1432 [==============================] - ETA: 0s - loss: 0.2959 - acc: 0.8820\n",
            "Epoch 10: val_acc did not improve from 0.84172\n",
            "1432/1432 [==============================] - 557s 389ms/step - loss: 0.2959 - acc: 0.8820 - val_loss: 0.4430 - val_acc: 0.8188 - lr: 6.4000e-04\n",
            "Epoch 11/40\n",
            "1432/1432 [==============================] - ETA: 0s - loss: 0.2834 - acc: 0.8884\n",
            "Epoch 11: val_acc did not improve from 0.84172\n",
            "\n",
            "Epoch 11: ReduceLROnPlateau reducing learning rate to 0.0005120000336319208.\n",
            "1432/1432 [==============================] - 555s 388ms/step - loss: 0.2834 - acc: 0.8884 - val_loss: 1.1564 - val_acc: 0.4374 - lr: 6.4000e-04\n",
            "Epoch 12/40\n",
            "1432/1432 [==============================] - ETA: 0s - loss: 0.2708 - acc: 0.8899\n",
            "Epoch 12: val_acc did not improve from 0.84172\n",
            "1432/1432 [==============================] - 556s 388ms/step - loss: 0.2708 - acc: 0.8899 - val_loss: 0.4511 - val_acc: 0.8171 - lr: 5.1200e-04\n",
            "Epoch 13/40\n",
            "1432/1432 [==============================] - ETA: 0s - loss: 0.2685 - acc: 0.8951\n",
            "Epoch 13: val_acc did not improve from 0.84172\n",
            "1432/1432 [==============================] - 556s 388ms/step - loss: 0.2685 - acc: 0.8951 - val_loss: 0.4508 - val_acc: 0.8350 - lr: 5.1200e-04\n",
            "Epoch 14/40\n",
            "1432/1432 [==============================] - ETA: 0s - loss: 0.2682 - acc: 0.8966\n",
            "Epoch 14: val_acc did not improve from 0.84172\n",
            "\n",
            "Epoch 14: ReduceLROnPlateau reducing learning rate to 0.00040960004553198815.\n",
            "1432/1432 [==============================] - 557s 389ms/step - loss: 0.2682 - acc: 0.8966 - val_loss: 4.5098 - val_acc: 0.1963 - lr: 5.1200e-04\n",
            "Epoch 15/40\n",
            "1432/1432 [==============================] - ETA: 0s - loss: 0.2576 - acc: 0.9014\n",
            "Epoch 15: val_acc improved from 0.84172 to 0.86521, saving model to /content/drive/MyDrive/Colab Notebooks/CV_project/Model/0803_B7_4/015-0.2576-0.9014-0.3474-0.8652.hdf5\n",
            "1432/1432 [==============================] - 563s 393ms/step - loss: 0.2576 - acc: 0.9014 - val_loss: 0.3474 - val_acc: 0.8652 - lr: 4.0960e-04\n",
            "Epoch 16/40\n",
            "1432/1432 [==============================] - ETA: 0s - loss: 0.2538 - acc: 0.8986\n",
            "Epoch 16: val_acc did not improve from 0.86521\n",
            "1432/1432 [==============================] - 557s 389ms/step - loss: 0.2538 - acc: 0.8986 - val_loss: 1.0144 - val_acc: 0.5145 - lr: 4.0960e-04\n",
            "Epoch 17/40\n",
            "1432/1432 [==============================] - ETA: 0s - loss: 0.2517 - acc: 0.9032\n",
            "Epoch 17: val_acc did not improve from 0.86521\n",
            "1432/1432 [==============================] - 556s 388ms/step - loss: 0.2517 - acc: 0.9032 - val_loss: 3.6282 - val_acc: 0.1823 - lr: 4.0960e-04\n",
            "Epoch 18/40\n",
            "1432/1432 [==============================] - ETA: 0s - loss: 0.2460 - acc: 0.9021\n",
            "Epoch 18: val_acc did not improve from 0.86521\n",
            "\n",
            "Epoch 18: ReduceLROnPlateau reducing learning rate to 0.00032768002711236477.\n",
            "1432/1432 [==============================] - 555s 388ms/step - loss: 0.2460 - acc: 0.9021 - val_loss: 0.6186 - val_acc: 0.8238 - lr: 4.0960e-04\n",
            "Epoch 19/40\n",
            "1432/1432 [==============================] - ETA: 0s - loss: 0.2409 - acc: 0.9066\n",
            "Epoch 19: val_acc improved from 0.86521 to 0.88087, saving model to /content/drive/MyDrive/Colab Notebooks/CV_project/Model/0803_B7_4/019-0.2409-0.9066-0.3142-0.8809.hdf5\n",
            "1432/1432 [==============================] - 563s 393ms/step - loss: 0.2409 - acc: 0.9066 - val_loss: 0.3142 - val_acc: 0.8809 - lr: 3.2768e-04\n",
            "Epoch 20/40\n",
            "1432/1432 [==============================] - ETA: 0s - loss: 0.2294 - acc: 0.9117\n",
            "Epoch 20: val_acc improved from 0.88087 to 0.88311, saving model to /content/drive/MyDrive/Colab Notebooks/CV_project/Model/0803_B7_4/020-0.2294-0.9117-0.2998-0.8831.hdf5\n",
            "1432/1432 [==============================] - 564s 394ms/step - loss: 0.2294 - acc: 0.9117 - val_loss: 0.2998 - val_acc: 0.8831 - lr: 3.2768e-04\n",
            "Epoch 21/40\n",
            "1432/1432 [==============================] - ETA: 0s - loss: 0.2298 - acc: 0.9106\n",
            "Epoch 21: val_acc did not improve from 0.88311\n",
            "1432/1432 [==============================] - 557s 389ms/step - loss: 0.2298 - acc: 0.9106 - val_loss: 0.5711 - val_acc: 0.7086 - lr: 3.2768e-04\n",
            "Epoch 22/40\n",
            "1432/1432 [==============================] - ETA: 0s - loss: 0.2284 - acc: 0.9108\n",
            "Epoch 22: val_acc did not improve from 0.88311\n",
            "1432/1432 [==============================] - 557s 389ms/step - loss: 0.2284 - acc: 0.9108 - val_loss: 0.5344 - val_acc: 0.8188 - lr: 3.2768e-04\n",
            "Epoch 23/40\n",
            "1432/1432 [==============================] - ETA: 0s - loss: 0.2225 - acc: 0.9148\n",
            "Epoch 23: val_acc did not improve from 0.88311\n",
            "\n",
            "Epoch 23: ReduceLROnPlateau reducing learning rate to 0.0002621440216898918.\n",
            "1432/1432 [==============================] - 557s 389ms/step - loss: 0.2225 - acc: 0.9148 - val_loss: 1.8838 - val_acc: 0.3842 - lr: 3.2768e-04\n",
            "Epoch 24/40\n",
            "1432/1432 [==============================] - ETA: 0s - loss: 0.2218 - acc: 0.9142\n",
            "Epoch 24: val_acc did not improve from 0.88311\n",
            "1432/1432 [==============================] - 558s 390ms/step - loss: 0.2218 - acc: 0.9142 - val_loss: 0.5447 - val_acc: 0.7282 - lr: 2.6214e-04\n",
            "Epoch 25/40\n",
            "1432/1432 [==============================] - ETA: 0s - loss: 0.2168 - acc: 0.9194\n",
            "Epoch 25: val_acc did not improve from 0.88311\n",
            "1432/1432 [==============================] - 558s 389ms/step - loss: 0.2168 - acc: 0.9194 - val_loss: 0.5533 - val_acc: 0.7444 - lr: 2.6214e-04\n",
            "Epoch 26/40\n",
            "1432/1432 [==============================] - ETA: 0s - loss: 0.2124 - acc: 0.9149\n",
            "Epoch 26: val_acc did not improve from 0.88311\n",
            "\n",
            "Epoch 26: ReduceLROnPlateau reducing learning rate to 0.00020971521735191345.\n",
            "1432/1432 [==============================] - 556s 388ms/step - loss: 0.2124 - acc: 0.9149 - val_loss: 0.4335 - val_acc: 0.8563 - lr: 2.6214e-04\n",
            "Epoch 27/40\n",
            "1432/1432 [==============================] - ETA: 0s - loss: 0.2001 - acc: 0.9240\n",
            "Epoch 27: val_acc improved from 0.88311 to 0.89094, saving model to /content/drive/MyDrive/Colab Notebooks/CV_project/Model/0803_B7_4/027-0.2001-0.9240-0.2713-0.8909.hdf5\n",
            "1432/1432 [==============================] - 562s 392ms/step - loss: 0.2001 - acc: 0.9240 - val_loss: 0.2713 - val_acc: 0.8909 - lr: 2.0972e-04\n",
            "Epoch 28/40\n",
            "1432/1432 [==============================] - ETA: 0s - loss: 0.2020 - acc: 0.9240\n",
            "Epoch 28: val_acc did not improve from 0.89094\n",
            "1432/1432 [==============================] - 554s 387ms/step - loss: 0.2020 - acc: 0.9240 - val_loss: 0.2934 - val_acc: 0.8798 - lr: 2.0972e-04\n",
            "Epoch 29/40\n",
            "1432/1432 [==============================] - ETA: 0s - loss: 0.2020 - acc: 0.9201\n",
            "Epoch 29: val_acc did not improve from 0.89094\n",
            "1432/1432 [==============================] - 554s 387ms/step - loss: 0.2020 - acc: 0.9201 - val_loss: 0.4189 - val_acc: 0.8171 - lr: 2.0972e-04\n",
            "Epoch 30/40\n",
            "1432/1432 [==============================] - ETA: 0s - loss: 0.1942 - acc: 0.9250\n",
            "Epoch 30: val_acc did not improve from 0.89094\n",
            "\n",
            "Epoch 30: ReduceLROnPlateau reducing learning rate to 0.00016777217388153076.\n",
            "1432/1432 [==============================] - 556s 388ms/step - loss: 0.1942 - acc: 0.9250 - val_loss: 0.2873 - val_acc: 0.8876 - lr: 2.0972e-04\n",
            "Epoch 31/40\n",
            "1432/1432 [==============================] - ETA: 0s - loss: 0.1909 - acc: 0.9265\n",
            "Epoch 31: val_acc did not improve from 0.89094\n",
            "1432/1432 [==============================] - 555s 388ms/step - loss: 0.1909 - acc: 0.9265 - val_loss: 0.7785 - val_acc: 0.6980 - lr: 1.6777e-04\n",
            "Epoch 32/40\n",
            "1432/1432 [==============================] - ETA: 0s - loss: 0.1922 - acc: 0.9250\n",
            "Epoch 32: val_acc improved from 0.89094 to 0.89262, saving model to /content/drive/MyDrive/Colab Notebooks/CV_project/Model/0803_B7_4/032-0.1922-0.9250-0.2855-0.8926.hdf5\n",
            "1432/1432 [==============================] - 564s 394ms/step - loss: 0.1922 - acc: 0.9250 - val_loss: 0.2855 - val_acc: 0.8926 - lr: 1.6777e-04\n",
            "Epoch 33/40\n",
            "1432/1432 [==============================] - ETA: 0s - loss: 0.1824 - acc: 0.9289\n",
            "Epoch 33: val_acc did not improve from 0.89262\n",
            "\n",
            "Epoch 33: ReduceLROnPlateau reducing learning rate to 0.00013421773910522462.\n",
            "1432/1432 [==============================] - 557s 389ms/step - loss: 0.1824 - acc: 0.9289 - val_loss: 0.5257 - val_acc: 0.7746 - lr: 1.6777e-04\n",
            "Epoch 34/40\n",
            "1432/1432 [==============================] - ETA: 0s - loss: 0.1846 - acc: 0.9279\n",
            "Epoch 34: val_acc did not improve from 0.89262\n",
            "1432/1432 [==============================] - 556s 388ms/step - loss: 0.1846 - acc: 0.9279 - val_loss: 0.3666 - val_acc: 0.8490 - lr: 1.3422e-04\n",
            "Epoch 35/40\n",
            "1432/1432 [==============================] - ETA: 0s - loss: 0.1806 - acc: 0.9328\n",
            "Epoch 35: val_acc did not improve from 0.89262\n",
            "1432/1432 [==============================] - 557s 389ms/step - loss: 0.1806 - acc: 0.9328 - val_loss: 0.3505 - val_acc: 0.8758 - lr: 1.3422e-04\n",
            "Epoch 36/40\n",
            "1432/1432 [==============================] - ETA: 0s - loss: 0.1773 - acc: 0.9331\n",
            "Epoch 36: val_acc did not improve from 0.89262\n",
            "\n",
            "Epoch 36: ReduceLROnPlateau reducing learning rate to 0.00010737419361248613.\n",
            "1432/1432 [==============================] - 558s 390ms/step - loss: 0.1773 - acc: 0.9331 - val_loss: 0.5008 - val_acc: 0.8188 - lr: 1.3422e-04\n",
            "Epoch 37/40\n",
            "1432/1432 [==============================] - ETA: 0s - loss: 0.1695 - acc: 0.9384\n",
            "Epoch 37: val_acc did not improve from 0.89262\n",
            "1432/1432 [==============================] - 557s 389ms/step - loss: 0.1695 - acc: 0.9384 - val_loss: 0.5167 - val_acc: 0.7740 - lr: 1.0737e-04\n",
            "Epoch 38/40\n",
            "1432/1432 [==============================] - ETA: 0s - loss: 0.1687 - acc: 0.9385\n",
            "Epoch 38: val_acc did not improve from 0.89262\n",
            "1432/1432 [==============================] - 558s 390ms/step - loss: 0.1687 - acc: 0.9385 - val_loss: 0.4658 - val_acc: 0.8177 - lr: 1.0737e-04\n",
            "Epoch 39/40\n",
            "1432/1432 [==============================] - ETA: 0s - loss: 0.1677 - acc: 0.9346\n",
            "Epoch 39: val_acc improved from 0.89262 to 0.89709, saving model to /content/drive/MyDrive/Colab Notebooks/CV_project/Model/0803_B7_4/039-0.1677-0.9346-0.2855-0.8971.hdf5\n",
            "\n",
            "Epoch 39: ReduceLROnPlateau reducing learning rate to 8.589935605414213e-05.\n",
            "1432/1432 [==============================] - 565s 394ms/step - loss: 0.1677 - acc: 0.9346 - val_loss: 0.2855 - val_acc: 0.8971 - lr: 1.0737e-04\n",
            "Epoch 40/40\n",
            "1226/1432 [========================>.....] - ETA: 1:15 - loss: 0.1612 - acc: 0.9375"
          ]
        }
      ]
    },
    {
      "cell_type": "code",
      "execution_count": null,
      "metadata": {
        "colab": {
          "base_uri": "https://localhost:8080/"
        },
        "id": "W99i8iUfBcIr",
        "outputId": "ca584a45-f190-408c-a7e3-d3c36e47c981"
      },
      "outputs": [
        {
          "output_type": "stream",
          "name": "stderr",
          "text": [
            "/usr/local/lib/python3.7/dist-packages/keras_preprocessing/image/image_data_generator.py:720: UserWarning: This ImageDataGenerator specifies `featurewise_center`, but it hasn't been fit on any training data. Fit it first by calling `.fit(numpy_data)`.\n",
            "  warnings.warn('This ImageDataGenerator specifies '\n",
            "/usr/local/lib/python3.7/dist-packages/keras_preprocessing/image/image_data_generator.py:728: UserWarning: This ImageDataGenerator specifies `featurewise_std_normalization`, but it hasn't been fit on any training data. Fit it first by calling `.fit(numpy_data)`.\n",
            "  warnings.warn('This ImageDataGenerator specifies '\n"
          ]
        },
        {
          "output_type": "stream",
          "name": "stdout",
          "text": [
            "280/280 - 552s - loss: 0.3382 - acc: 0.8659 - 552s/epoch - 2s/step\n",
            "훈련되지 않은 모델의 정확도: 86.59%\n"
          ]
        }
      ],
      "source": [
        "train_path = '/content/drive/MyDrive/Colab Notebooks/CV_project/Model/0802_B5_2/006-0.3090-0.8742-0.3629-0.8540.hdf5'\n",
        "DeepLearning.load_weights(train_path)\n",
        "\n",
        "# 모델을 평가합니다\n",
        "loss, acc = DeepLearning.evaluate(test_generator, verbose=2)\n",
        "print(\"훈련되지 않은 모델의 정확도: {:5.2f}%\".format(100*acc))"
      ]
    },
    {
      "cell_type": "code",
      "execution_count": null,
      "metadata": {
        "colab": {
          "base_uri": "https://localhost:8080/"
        },
        "id": "_RIky73lBcIr",
        "outputId": "78200efb-5b21-4c76-f7c4-8646861b7d50"
      },
      "outputs": [
        {
          "output_type": "stream",
          "name": "stderr",
          "text": [
            "/usr/local/lib/python3.7/dist-packages/ipykernel_launcher.py:1: UserWarning: `Model.predict_generator` is deprecated and will be removed in a future version. Please use `Model.predict`, which supports generators.\n",
            "  \"\"\"Entry point for launching an IPython kernel.\n",
            "/usr/local/lib/python3.7/dist-packages/keras_preprocessing/image/image_data_generator.py:720: UserWarning: This ImageDataGenerator specifies `featurewise_center`, but it hasn't been fit on any training data. Fit it first by calling `.fit(numpy_data)`.\n",
            "  warnings.warn('This ImageDataGenerator specifies '\n",
            "/usr/local/lib/python3.7/dist-packages/keras_preprocessing/image/image_data_generator.py:728: UserWarning: This ImageDataGenerator specifies `featurewise_std_normalization`, but it hasn't been fit on any training data. Fit it first by calling `.fit(numpy_data)`.\n",
            "  warnings.warn('This ImageDataGenerator specifies '\n"
          ]
        },
        {
          "output_type": "stream",
          "name": "stdout",
          "text": [
            "280/280 [==============================] - 19s 59ms/step\n"
          ]
        }
      ],
      "source": [
        "Test_prediction = DeepLearning.predict_generator(test_generator, verbose=1)"
      ]
    },
    {
      "cell_type": "code",
      "execution_count": null,
      "metadata": {
        "colab": {
          "base_uri": "https://localhost:8080/",
          "height": 313
        },
        "id": "jsmdnal2BcIr",
        "outputId": "5abc9774-c611-483b-f6a7-60bf7a82b0cd"
      },
      "outputs": [
        {
          "output_type": "execute_result",
          "data": {
            "text/plain": [
              "<matplotlib.axes._subplots.AxesSubplot at 0x7fb600a58e90>"
            ]
          },
          "metadata": {},
          "execution_count": 10
        },
        {
          "output_type": "display_data",
          "data": {
            "text/plain": [
              "<Figure size 432x288 with 1 Axes>"
            ],
            "image/png": "[encoded data removed]"
          },
          "metadata": {
            "needs_background": "light"
          }
        }
      ],
      "source": [
        "Result = pd.DataFrame(Test_prediction)\n",
        "skplt.metrics.plot_roc(test_generator.classes.tolist(), Result)"
      ]
    },
    {
      "cell_type": "code",
      "execution_count": null,
      "metadata": {
        "colab": {
          "base_uri": "https://localhost:8080/"
        },
        "id": "abDHyKqgBcIt",
        "outputId": "8b2f0ef7-326f-4961-ad8a-fa7331547c79"
      },
      "outputs": [
        {
          "output_type": "stream",
          "name": "stdout",
          "text": [
            "Found 2237 images belonging to 2 classes.\n"
          ]
        }
      ],
      "source": [
        "GENERATOR = ImageDataGenerator(\n",
        "    rescale=1./255,\n",
        "    featurewise_center=True,\n",
        "    featurewise_std_normalization=True,\n",
        "    data_format=\"channels_last\")\n",
        "\n",
        "DATA_GENERATOR = GENERATOR.flow_from_directory(\n",
        "    test_directory,\n",
        "    target_size = (img_width, img_height),\n",
        "    batch_size = batch_size,\n",
        "    shuffle = False,\n",
        "    classes=[\"Benign\", \"Cancer\"],\n",
        "    class_mode= \"categorical\")"
      ]
    },
    {
      "cell_type": "code",
      "execution_count": null,
      "metadata": {
        "id": "vewc5omEBcIu"
      },
      "outputs": [],
      "source": [
        "DeepLearning.summary()"
      ]
    },
    {
      "cell_type": "code",
      "source": [],
      "metadata": {
        "id": "vK3gYrtsBnVQ"
      },
      "execution_count": null,
      "outputs": []
    },
    {
      "cell_type": "code",
      "execution_count": null,
      "metadata": {
        "id": "CI-XX4h2BcIu"
      },
      "outputs": [],
      "source": [
        "def grad_cam(model, img, layer_name=\"top_conv\", label_name=None, category_id=None):\n",
        "    img_tensor = np.expand_dims(img, axis=0)\n",
        "    conv_layer = model.get_layer(layer_name)\n",
        "    heatmap_model = tf.keras.Model(inputs=[model.inputs], outputs=[conv_layer.output, model.output])\n",
        "\n",
        "    with tf.GradientTape() as gtape:\n",
        "        conv_output, predictions = heatmap_model(img_tensor)\n",
        "        if category_id == None:\n",
        "            category_id = np.argmax(predictions[0])\n",
        "        if label_name:\n",
        "            print(label_name[category_id])\n",
        "        output = predictions[:, category_id]\n",
        "        grads = gtape.gradient(output, conv_output)\n",
        "        pooled_grads = tf.reduce_mean(grads, axis=(0, 1, 2))\n",
        "\n",
        "    heatmap = tf.reduce_mean(tf.multiply(pooled_grads, conv_output), axis=-1)\n",
        "    heatmap = np.maximum(heatmap, 0)\n",
        "    max_heat = np.max(heatmap)\n",
        "    if max_heat == 0:\n",
        "        max_heat = 1e-10\n",
        "    heatmap /= max_heat\n",
        "    return np.squeeze(heatmap), predictions\n",
        "\n",
        "def grad_camAll(model, img, layer_name=\"top_conv\", blockSize=7, label_name=None, category_id=None):\n",
        "    img_tensor = np.expand_dims(img, axis=0)\n",
        "    conv_layer = model.get_layer(layer_name)\n",
        "    heatmap_model = Model([model.inputs], [conv_layer.output, model.output])\n",
        "\n",
        "    with tf.GradientTape() as gtape:\n",
        "        conv_output, predictions = heatmap_model(img_tensor)\n",
        "        if category_id == None:\n",
        "            category_id = np.argmax(predictions[0])\n",
        "        if label_name:\n",
        "            print(label_name[category_id])\n",
        "        output = predictions[:, category_id]\n",
        "        grads = gtape.gradient(output, conv_output)\n",
        "        pooled_grads = tf.reduce_mean(grads, axis=(0, 1, 2))\n",
        "    \n",
        "    res = sp.ndimage.zoom(conv_output[0], (224/blockSize, 224/blockSize, 1), order=2)   \n",
        "    heatmap = tf.reduce_mean(tf.multiply(pooled_grads, res), axis=-1)\n",
        "    heatmap = np.maximum(heatmap, 0)\n",
        "    max_heat = np.max(heatmap)\n",
        "    if max_heat == 0:\n",
        "        max_heat = 1e-10\n",
        "    heatmap /= max_heat\n",
        "    return np.squeeze(heatmap)\n",
        "\n",
        "def show_imgwithheat(img_path, heatmap, alpha=0.4, return_array=False):\n",
        "    img = cv2.imread(img_path)\n",
        "    heatmap = cv2.resize(heatmap, (img.shape[1], img.shape[0]))\n",
        "    heatmap = (heatmap*255).astype(\"uint8\")\n",
        "    heatmap = cv2.applyColorMap(heatmap, cv2.COLORMAP_JET)\n",
        "    superimposed_img = heatmap * alpha + img\n",
        "    superimposed_img = np.clip(superimposed_img, 0, 255).astype(\"uint8\")\n",
        "    superimposed_img = cv2.cvtColor(superimposed_img, cv2.COLOR_BGR2RGB)\n",
        "\n",
        "    imgwithheat = PIL.Image.fromarray(superimposed_img)  \n",
        "    display(imgwithheat)\n",
        "\n",
        "    if return_array:\n",
        "        return superimposed_img"
      ]
    },
    {
      "cell_type": "code",
      "execution_count": null,
      "metadata": {
        "colab": {
          "base_uri": "https://localhost:8080/",
          "height": 477
        },
        "id": "I9xAljHXBcIv",
        "outputId": "6ad58c1d-af77-4856-e015-b76b26cc5048"
      },
      "outputs": [
        {
          "output_type": "stream",
          "name": "stderr",
          "text": [
            "/usr/local/lib/python3.7/dist-packages/keras_preprocessing/image/image_data_generator.py:720: UserWarning: This ImageDataGenerator specifies `featurewise_center`, but it hasn't been fit on any training data. Fit it first by calling `.fit(numpy_data)`.\n",
            "  warnings.warn('This ImageDataGenerator specifies '\n",
            "/usr/local/lib/python3.7/dist-packages/keras_preprocessing/image/image_data_generator.py:728: UserWarning: This ImageDataGenerator specifies `featurewise_std_normalization`, but it hasn't been fit on any training data. Fit it first by calling `.fit(numpy_data)`.\n",
            "  warnings.warn('This ImageDataGenerator specifies '\n"
          ]
        },
        {
          "output_type": "display_data",
          "data": {
            "text/plain": [
              "<Figure size 648x216 with 2 Axes>"
            ],
            "image/png": "[encoded data removed]"
          },
          "metadata": {
            "needs_background": "light"
          }
        },
        {
          "output_type": "stream",
          "name": "stdout",
          "text": [
            "tf.Tensor([[0.98431003 0.01568994]], shape=(1, 2), dtype=float32)\n",
            "0.984\n",
            "[[1. 0.]\n",
            " [1. 0.]\n",
            " [1. 0.]\n",
            " [1. 0.]\n",
            " [1. 0.]\n",
            " [1. 0.]\n",
            " [1. 0.]\n",
            " [1. 0.]]\n"
          ]
        }
      ],
      "source": [
        "Iterator = 27\n",
        "\n",
        "# item 받아오기\n",
        "Image, Label = DATA_GENERATOR.__getitem__(Iterator)\n",
        "Image = Image[0]\n",
        "# print(Label)\n",
        "\n",
        "\n",
        "# grad_cam을 활용하여 heatmap 가져오기\n",
        "HEATMAP1, pred1 = grad_cam(model = DeepLearning, img = Image, layer_name = \"top_conv\", category_id=0)\n",
        "heatmap_resize = cv2.resize(HEATMAP1, (224, 224))\n",
        "heatmap_resize_255 = (heatmap_resize*255).astype(\"uint8\")\n",
        "heatmap1 = cv2.applyColorMap(255-heatmap_resize_255, cv2.COLORMAP_JET ) / 255\n",
        "heatmap1[:, :, 2] -= .5\n",
        "heatmap1[(heatmap1[:, :, 2] < 0), 2] = 0\n",
        "\n",
        "fig, ax = plt.subplots( nrows=3, ncols=1 )  # create figure & 1 axis\n",
        "fig.set_size_inches(9.0, 3.0)\n",
        "ax = plt.subplot(1,3,1)\n",
        "ax.imshow(Image)\n",
        "ax = plt.subplot(1,3,2)\n",
        "ax.imshow(Image)\n",
        "ax.imshow(heatmap1, cmap=plt.cm.jet, alpha=0.3, interpolation='nearest' )\n",
        "# ax = plt.subplot(1,3,3)\n",
        "# ax.imshow(Image)\n",
        "# ax.imshow(heatmap1, cmap=plt.cm.jet, alpha=0.3, interpolation='nearest' )\n",
        "\n",
        "plt.subplots_adjust(left = 0.06, wspace = 0.25, hspace = 0.1, bottom = 0.025, top = 0.975)\n",
        "pred=round(pred1.numpy()[0][0],3)\n",
        "plt.show()\n",
        "\n",
        "print(pred1)\n",
        "print(pred)\n",
        "print(Label)"
      ]
    }
  ],
  "metadata": {
    "kernelspec": {
      "display_name": "Python 3.8.13 ('tf_CPU')",
      "language": "python",
      "name": "python3"
    },
    "language_info": {
      "codemirror_mode": {
        "name": "ipython",
        "version": 3
      },
      "file_extension": ".py",
      "mimetype": "text/x-python",
      "name": "python",
      "nbconvert_exporter": "python",
      "pygments_lexer": "ipython3",
      "version": "3.8.13"
    },
    "orig_nbformat": 4,
    "vscode": {
      "interpreter": {
        "hash": "77969b80d7e0a5cb7e8f7ac06c6a462a342e6c32ffdaba6c0d4da8bd2d118c79"
      }
    },
    "colab": {
      "provenance": [],
      "collapsed_sections": []
    },
    "accelerator": "GPU",
    "gpuClass": "standard"
  },
  "nbformat": 4,
  "nbformat_minor": 0
}